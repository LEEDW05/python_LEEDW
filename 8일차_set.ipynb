{
  "nbformat": 4,
  "nbformat_minor": 0,
  "metadata": {
    "colab": {
      "provenance": [],
      "authorship_tag": "ABX9TyNOIYgYfLpXfaXCiYA2XQJ2",
      "include_colab_link": true
    },
    "kernelspec": {
      "name": "python3",
      "display_name": "Python 3"
    },
    "language_info": {
      "name": "python"
    }
  },
  "cells": [
    {
      "cell_type": "markdown",
      "metadata": {
        "id": "view-in-github",
        "colab_type": "text"
      },
      "source": [
        "<a href=\"https://colab.research.google.com/github/LEEDW05/python_LEEDW/blob/main/8%EC%9D%BC%EC%B0%A8_set.ipynb\" target=\"_parent\"><img src=\"https://colab.research.google.com/assets/colab-badge.svg\" alt=\"Open In Colab\"/></a>"
      ]
    },
    {
      "cell_type": "markdown",
      "source": [
        "## 컬렉션 데이터 - set\n",
        "* 세트명 ={값1, 값2......}"
      ],
      "metadata": {
        "id": "hYVMesKoGZ3w"
      }
    },
    {
      "cell_type": "code",
      "execution_count": null,
      "metadata": {
        "colab": {
          "base_uri": "https://localhost:8080/"
        },
        "id": "AkDzfJXnGVyW",
        "outputId": "6a35d7ca-3c66-4430-b9c2-fabc0dcbce6d"
      },
      "outputs": [
        {
          "output_type": "stream",
          "name": "stdout",
          "text": [
            "{20}\n",
            "{20, 40, 10, 30}\n",
            "{10, 30}\n"
          ]
        }
      ],
      "source": [
        "a={10,20,30}\n",
        "b={20,40}\n",
        "\n",
        "print(a&b) #교집합\n",
        "print(a|b) #합집합\n",
        "print(a-b) #차집합"
      ]
    },
    {
      "cell_type": "markdown",
      "source": [
        "## 사용자 정의 함수\n",
        "\n",
        "```\n",
        "def 함수명():\n",
        "   명령문\n",
        "   명령문\n",
        "\n",
        "함수명()\n",
        "```"
      ],
      "metadata": {
        "id": "In8Tc6F8J4f5"
      }
    },
    {
      "cell_type": "code",
      "source": [
        "#함수 정의\n",
        "def infoper():\n",
        "  print('영등포구')\n",
        "  print('이동원')\n",
        "\n",
        "#함수 호출\n",
        "for i in range(10):\n",
        "  infoper()"
      ],
      "metadata": {
        "colab": {
          "base_uri": "https://localhost:8080/"
        },
        "id": "TpHpcAEzKKQD",
        "outputId": "60b3d550-fcb3-4ae8-d541-c84c2fe4b67e"
      },
      "execution_count": null,
      "outputs": [
        {
          "output_type": "stream",
          "name": "stdout",
          "text": [
            "영등포구\n",
            "이동원\n",
            "영등포구\n",
            "이동원\n",
            "영등포구\n",
            "이동원\n",
            "영등포구\n",
            "이동원\n",
            "영등포구\n",
            "이동원\n",
            "영등포구\n",
            "이동원\n",
            "영등포구\n",
            "이동원\n",
            "영등포구\n",
            "이동원\n",
            "영등포구\n",
            "이동원\n",
            "영등포구\n",
            "이동원\n"
          ]
        }
      ]
    },
    {
      "cell_type": "code",
      "source": [
        "# 함수 인수 이용\n",
        "# 함수 정의\n",
        "def infoper(addr, name):\n",
        "  print(addr)\n",
        "  print(name)\n",
        "\n",
        "\n",
        "#함수 호출\n",
        "addr = input('주소입력>>> ')\n",
        "name = input('이름>>> ')\n",
        "infoper(addr, name)"
      ],
      "metadata": {
        "colab": {
          "base_uri": "https://localhost:8080/"
        },
        "id": "gvo4oUKNLKCc",
        "outputId": "2028f7bb-ca6c-4a6a-e62b-10b85ed05ded"
      },
      "execution_count": null,
      "outputs": [
        {
          "output_type": "stream",
          "name": "stdout",
          "text": [
            "주소입력>>> 강남구\n",
            "이름>>> 이동원\n",
            "강남구\n",
            "이동원\n"
          ]
        }
      ]
    },
    {
      "cell_type": "markdown",
      "source": [],
      "metadata": {
        "id": "DYf7wY4JNwlm"
      }
    },
    {
      "cell_type": "code",
      "source": [
        "# 더하기, 빼기 함수 작성\n",
        "def calc(a,b,c):\n",
        "  r1 = a + b + c\n",
        "  r2 = r1/3\n",
        "  subtract = a - b\n",
        "  # print(f\"더하기\", r1)\n",
        "  # print('빼기', r2)\n",
        "  return r1, r2\n",
        "\n",
        "\n",
        "x,y = calc(100,200,300)\n",
        "print(x,y)"
      ],
      "metadata": {
        "colab": {
          "base_uri": "https://localhost:8080/"
        },
        "id": "I8PxJPP0Mixm",
        "outputId": "32be7fbd-69eb-438b-8b6b-962888b80efe"
      },
      "execution_count": null,
      "outputs": [
        {
          "output_type": "stream",
          "name": "stdout",
          "text": [
            "600 200.0\n"
          ]
        }
      ]
    },
    {
      "cell_type": "code",
      "source": [
        "\n",
        "num = int(input('출력을 원하는 단을 입력 : '))\n",
        "\n",
        "if num>=2 or num<=9:\n",
        "  print(f'*** {num}단 ***')\n",
        "  for i in range(1,10):\n",
        "    print(f'{num} * {i} = {num*i}')\n",
        "\n",
        "else:\n",
        "  print('입력 오류!!!')"
      ],
      "metadata": {
        "colab": {
          "base_uri": "https://localhost:8080/"
        },
        "id": "eK6p2JHrPYOj",
        "outputId": "2b5bbf53-971e-4bb3-a4e5-b954813adb8f"
      },
      "execution_count": null,
      "outputs": [
        {
          "output_type": "stream",
          "name": "stdout",
          "text": [
            "출력을 원하는 단을 입력 : 4\n",
            "*** 4단 ***\n",
            "4 * 1 = 4\n",
            "4 * 2 = 8\n",
            "4 * 3 = 12\n",
            "4 * 4 = 16\n",
            "4 * 5 = 20\n",
            "4 * 6 = 24\n",
            "4 * 7 = 28\n",
            "4 * 8 = 32\n",
            "4 * 9 = 36\n"
          ]
        }
      ]
    },
    {
      "cell_type": "code",
      "source": [
        "#함수 정의\n",
        "def gugudan(num):\n",
        "  if num>=2 or num<=9:\n",
        "    for i in range(1,10):\n",
        "      print(f'{num} * {i} = {num*i}')\n",
        "\n",
        "  else:\n",
        "    print('입력 오류!!!')\n",
        "\n",
        "#함수 호출\n",
        "num = int(input('출력을 원하는 단을 입력 : '))\n",
        "gugudan(num)"
      ],
      "metadata": {
        "colab": {
          "base_uri": "https://localhost:8080/"
        },
        "id": "cdOEs8gaRPux",
        "outputId": "b101d1e3-da2d-4646-94af-a2ce334f12bf"
      },
      "execution_count": null,
      "outputs": [
        {
          "output_type": "stream",
          "name": "stdout",
          "text": [
            "출력을 원하는 단을 입력 : 5\n",
            "5 * 1 = 5\n",
            "5 * 2 = 10\n",
            "5 * 3 = 15\n",
            "5 * 4 = 20\n",
            "5 * 5 = 25\n",
            "5 * 6 = 30\n",
            "5 * 7 = 35\n",
            "5 * 8 = 40\n",
            "5 * 9 = 45\n"
          ]
        }
      ]
    },
    {
      "cell_type": "code",
      "source": [
        "# 세 개의 정수 입력 후 가장 큰 수 찾기\n",
        "# 함수 정의\n",
        "def findMax(a,b,c):\n",
        "  if a>b:\n",
        "    big = a\n",
        "  else:\n",
        "    big = b\n",
        "\n",
        "  if big < c:\n",
        "    big = c\n",
        "\n",
        "  return big\n",
        "\n",
        "# 함수 호출\n",
        "in_a = int(input('첫 번째 숫자 입력: '))\n",
        "in_b = int(input('두 번째 숫자 입력: '))\n",
        "in_c = int(input('세 번째 숫자 입력: '))\n",
        "rbig = findMax(in_a,in_b,in_c)\n",
        "print('가장 큰 수는', rbig)"
      ],
      "metadata": {
        "colab": {
          "base_uri": "https://localhost:8080/"
        },
        "id": "z3f3Jm7aSbG6",
        "outputId": "2c00b5b2-bae3-4410-8692-a28a1cf1e9e1"
      },
      "execution_count": null,
      "outputs": [
        {
          "output_type": "stream",
          "name": "stdout",
          "text": [
            "첫 번째 숫자 입력: 30\n",
            "두 번째 숫자 입력: 30\n",
            "세 번째 숫자 입력: 30\n",
            "가장 큰 수는 30\n"
          ]
        }
      ]
    },
    {
      "cell_type": "code",
      "source": [
        "def circumference(radius):\n",
        "  c = (r * 2) *3.14\n",
        "  return c\n",
        "def area(radius):\n",
        "  a = (r * r) *3.14\n",
        "  return a\n",
        "r = radius = int(input('원의 반지름 입력(㎝): '))\n",
        "circumference = circumference(radius)\n",
        "area = area(radius)\n",
        "\n",
        "print('원의 둘레: %.3f㎝'%circumference)\n",
        "print('원의 둘레: %.3f㎠'%area)"
      ],
      "metadata": {
        "colab": {
          "base_uri": "https://localhost:8080/"
        },
        "id": "8p5Ff3rvVJOf",
        "outputId": "c5bc4688-46db-4d1b-bc92-518c72159abd"
      },
      "execution_count": null,
      "outputs": [
        {
          "output_type": "stream",
          "name": "stdout",
          "text": [
            "원의 반지름 입력(㎝): 3\n",
            "원의 둘레: 18.840㎝\n",
            "원의 둘레: 28.260㎠\n"
          ]
        }
      ]
    },
    {
      "cell_type": "code",
      "source": [
        "import math\n",
        "math.sqrt(16.0)"
      ],
      "metadata": {
        "colab": {
          "base_uri": "https://localhost:8080/"
        },
        "id": "8kDUYTTKaOyV",
        "outputId": "62975be8-c7fd-478a-cb6e-3b474ceecd10"
      },
      "execution_count": null,
      "outputs": [
        {
          "output_type": "execute_result",
          "data": {
            "text/plain": [
              "4.0"
            ]
          },
          "metadata": {},
          "execution_count": 70
        }
      ]
    },
    {
      "cell_type": "code",
      "source": [
        "import math as m\n",
        "m.sqrt(16.0)"
      ],
      "metadata": {
        "colab": {
          "base_uri": "https://localhost:8080/"
        },
        "id": "kg8cQ8VWcd8-",
        "outputId": "6488e85d-4aaa-497a-b26f-cbbd70843bd7"
      },
      "execution_count": null,
      "outputs": [
        {
          "output_type": "execute_result",
          "data": {
            "text/plain": [
              "4.0"
            ]
          },
          "metadata": {},
          "execution_count": 71
        }
      ]
    },
    {
      "cell_type": "code",
      "source": [
        "# 영어단어 퀴즈' 프로그램\n",
        "word_data = {'apple':'사과', 'money':'돈', 'car':'자동차,차', 'watermelon':'수박', 'soap':'비누'}\n",
        "def data_add():\n",
        "  eng_data = input('영어 입력>> ')\n",
        "  kor_data = input('한글 뜻 입력>> ')\n",
        "  word_data[eng_data]=kor_data\n",
        "  print(word_data)\n",
        "\n",
        "def eng_question():\n",
        "  import random\n",
        "  correct = 0\n",
        "  totalQ = 0\n",
        "  while True:\n",
        "    word=random.choice(list(word_data.keys()))\n",
        "    print(f'다음 단어의 뜻은 무엇일까요?  {word}')\n",
        "    totalQ += 1\n",
        "    answer = input('뜻 입력>> ')\n",
        "    if answer == word_data[word]:\n",
        "      print('정답')\n",
        "      correct +=1\n",
        "    else:\n",
        "      print('오답')\n",
        "      print(word_data[word])\n",
        "\n",
        "    quit = input('계속?(종료: 0)')\n",
        "    if quit == '0':\n",
        "      break\n",
        "  print(f'문제 수 : {totalQ}, 정답 개수: {correct}')\n",
        "\n",
        "menu = int(input('메뉴선택(1. 데이터 추가, 2. 영어단어퀴즈)'))\n",
        "if menu == 1:\n",
        "  data_add()\n",
        "elif menu == 2:\n",
        "  eng_question()\n",
        "else:\n",
        "  print('없는 메돈뉴입니다.')\n",
        "eng_question()\n",
        "\n",
        "\n",
        "\n"
      ],
      "metadata": {
        "colab": {
          "base_uri": "https://localhost:8080/",
          "height": 478
        },
        "id": "-UVWg7pZdBUS",
        "outputId": "dfef2832-990b-4089-dc06-b7d81dffc39a"
      },
      "execution_count": null,
      "outputs": [
        {
          "output_type": "stream",
          "name": "stdout",
          "text": [
            "메뉴선택(1. 데이터 추가, 2. 영어단어퀴즈)2\n",
            "다음 단어의 뜻은 무엇일까요?  car\n",
            "뜻 입력>> 자동차,차\n",
            "정답\n",
            "계속?(종료: 0)0\n",
            "문제 수 : 1, 정답 개수: 1\n",
            "다음 단어의 뜻은 무엇일까요?  money\n"
          ]
        },
        {
          "output_type": "error",
          "ename": "KeyboardInterrupt",
          "evalue": "Interrupted by user",
          "traceback": [
            "\u001b[0;31m---------------------------------------------------------------------------\u001b[0m",
            "\u001b[0;31mKeyboardInterrupt\u001b[0m                         Traceback (most recent call last)",
            "\u001b[0;32m<ipython-input-7-62b771f6a577>\u001b[0m in \u001b[0;36m<cell line: 37>\u001b[0;34m()\u001b[0m\n\u001b[1;32m     35\u001b[0m \u001b[0;32melse\u001b[0m\u001b[0;34m:\u001b[0m\u001b[0;34m\u001b[0m\u001b[0;34m\u001b[0m\u001b[0m\n\u001b[1;32m     36\u001b[0m   \u001b[0mprint\u001b[0m\u001b[0;34m(\u001b[0m\u001b[0;34m'없는 메돈뉴입니다.'\u001b[0m\u001b[0;34m)\u001b[0m\u001b[0;34m\u001b[0m\u001b[0;34m\u001b[0m\u001b[0m\n\u001b[0;32m---> 37\u001b[0;31m \u001b[0meng_question\u001b[0m\u001b[0;34m(\u001b[0m\u001b[0;34m)\u001b[0m\u001b[0;34m\u001b[0m\u001b[0;34m\u001b[0m\u001b[0m\n\u001b[0m\u001b[1;32m     38\u001b[0m \u001b[0;34m\u001b[0m\u001b[0m\n\u001b[1;32m     39\u001b[0m \u001b[0;34m\u001b[0m\u001b[0m\n",
            "\u001b[0;32m<ipython-input-7-62b771f6a577>\u001b[0m in \u001b[0;36meng_question\u001b[0;34m()\u001b[0m\n\u001b[1;32m     15\u001b[0m     \u001b[0mprint\u001b[0m\u001b[0;34m(\u001b[0m\u001b[0;34mf'다음 단어의 뜻은 무엇일까요?  {word}'\u001b[0m\u001b[0;34m)\u001b[0m\u001b[0;34m\u001b[0m\u001b[0;34m\u001b[0m\u001b[0m\n\u001b[1;32m     16\u001b[0m     \u001b[0mtotalQ\u001b[0m \u001b[0;34m+=\u001b[0m \u001b[0;36m1\u001b[0m\u001b[0;34m\u001b[0m\u001b[0;34m\u001b[0m\u001b[0m\n\u001b[0;32m---> 17\u001b[0;31m     \u001b[0manswer\u001b[0m \u001b[0;34m=\u001b[0m \u001b[0minput\u001b[0m\u001b[0;34m(\u001b[0m\u001b[0;34m'뜻 입력>> '\u001b[0m\u001b[0;34m)\u001b[0m\u001b[0;34m\u001b[0m\u001b[0;34m\u001b[0m\u001b[0m\n\u001b[0m\u001b[1;32m     18\u001b[0m     \u001b[0;32mif\u001b[0m \u001b[0manswer\u001b[0m \u001b[0;34m==\u001b[0m \u001b[0mword_data\u001b[0m\u001b[0;34m[\u001b[0m\u001b[0mword\u001b[0m\u001b[0;34m]\u001b[0m\u001b[0;34m:\u001b[0m\u001b[0;34m\u001b[0m\u001b[0;34m\u001b[0m\u001b[0m\n\u001b[1;32m     19\u001b[0m       \u001b[0mprint\u001b[0m\u001b[0;34m(\u001b[0m\u001b[0;34m'정답'\u001b[0m\u001b[0;34m)\u001b[0m\u001b[0;34m\u001b[0m\u001b[0;34m\u001b[0m\u001b[0m\n",
            "\u001b[0;32m/usr/local/lib/python3.10/dist-packages/ipykernel/kernelbase.py\u001b[0m in \u001b[0;36mraw_input\u001b[0;34m(self, prompt)\u001b[0m\n\u001b[1;32m    849\u001b[0m                 \u001b[0;34m\"raw_input was called, but this frontend does not support input requests.\"\u001b[0m\u001b[0;34m\u001b[0m\u001b[0;34m\u001b[0m\u001b[0m\n\u001b[1;32m    850\u001b[0m             )\n\u001b[0;32m--> 851\u001b[0;31m         return self._input_request(str(prompt),\n\u001b[0m\u001b[1;32m    852\u001b[0m             \u001b[0mself\u001b[0m\u001b[0;34m.\u001b[0m\u001b[0m_parent_ident\u001b[0m\u001b[0;34m,\u001b[0m\u001b[0;34m\u001b[0m\u001b[0;34m\u001b[0m\u001b[0m\n\u001b[1;32m    853\u001b[0m             \u001b[0mself\u001b[0m\u001b[0;34m.\u001b[0m\u001b[0m_parent_header\u001b[0m\u001b[0;34m,\u001b[0m\u001b[0;34m\u001b[0m\u001b[0;34m\u001b[0m\u001b[0m\n",
            "\u001b[0;32m/usr/local/lib/python3.10/dist-packages/ipykernel/kernelbase.py\u001b[0m in \u001b[0;36m_input_request\u001b[0;34m(self, prompt, ident, parent, password)\u001b[0m\n\u001b[1;32m    893\u001b[0m             \u001b[0;32mexcept\u001b[0m \u001b[0mKeyboardInterrupt\u001b[0m\u001b[0;34m:\u001b[0m\u001b[0;34m\u001b[0m\u001b[0;34m\u001b[0m\u001b[0m\n\u001b[1;32m    894\u001b[0m                 \u001b[0;31m# re-raise KeyboardInterrupt, to truncate traceback\u001b[0m\u001b[0;34m\u001b[0m\u001b[0;34m\u001b[0m\u001b[0m\n\u001b[0;32m--> 895\u001b[0;31m                 \u001b[0;32mraise\u001b[0m \u001b[0mKeyboardInterrupt\u001b[0m\u001b[0;34m(\u001b[0m\u001b[0;34m\"Interrupted by user\"\u001b[0m\u001b[0;34m)\u001b[0m \u001b[0;32mfrom\u001b[0m \u001b[0;32mNone\u001b[0m\u001b[0;34m\u001b[0m\u001b[0;34m\u001b[0m\u001b[0m\n\u001b[0m\u001b[1;32m    896\u001b[0m             \u001b[0;32mexcept\u001b[0m \u001b[0mException\u001b[0m \u001b[0;32mas\u001b[0m \u001b[0me\u001b[0m\u001b[0;34m:\u001b[0m\u001b[0;34m\u001b[0m\u001b[0;34m\u001b[0m\u001b[0m\n\u001b[1;32m    897\u001b[0m                 \u001b[0mself\u001b[0m\u001b[0;34m.\u001b[0m\u001b[0mlog\u001b[0m\u001b[0;34m.\u001b[0m\u001b[0mwarning\u001b[0m\u001b[0;34m(\u001b[0m\u001b[0;34m\"Invalid Message:\"\u001b[0m\u001b[0;34m,\u001b[0m \u001b[0mexc_info\u001b[0m\u001b[0;34m=\u001b[0m\u001b[0;32mTrue\u001b[0m\u001b[0;34m)\u001b[0m\u001b[0;34m\u001b[0m\u001b[0;34m\u001b[0m\u001b[0m\n",
            "\u001b[0;31mKeyboardInterrupt\u001b[0m: Interrupted by user"
          ]
        }
      ]
    },
    {
      "cell_type": "code",
      "source": [
        "word_data"
      ],
      "metadata": {
        "colab": {
          "base_uri": "https://localhost:8080/"
        },
        "id": "BdCtO82Vlh6b",
        "outputId": "261e82a6-46ce-4a80-adbc-15edcf264da7"
      },
      "execution_count": null,
      "outputs": [
        {
          "output_type": "execute_result",
          "data": {
            "text/plain": [
              "{'apple': '사과',\n",
              " 'money': '돈',\n",
              " 'car': '자동차,차',\n",
              " 'watermelon': '수박',\n",
              " 'soap': '비누',\n",
              " 'horse': '말'}"
            ]
          },
          "metadata": {},
          "execution_count": 5
        }
      ]
    },
    {
      "cell_type": "code",
      "source": [
        "def multiplication_tables(count):\n",
        "  import random\n",
        "  import time\n",
        "  correct = 0\n",
        "  for i in range(count):\n",
        "    x = random.randint(2,9)\n",
        "    y = random.randint(1,9)\n",
        "\n",
        "    print(f'{x} * {y} ?   ')\n",
        "    start_time = time.time()\n",
        "    userin = int(input('>>>>>  '))\n",
        "    stop_time = time.time()\n",
        "    print(f'문제풀이 시간: {stop_time-start_time:.3f}')\n",
        "    if userin == x*y :\n",
        "      print('정답')\n",
        "      correct += 1\n",
        "    else:\n",
        "      print('다시 도전!!!')\n",
        "  #The return statement should be aligned with the for loop\n",
        "  return correct\n",
        "\n",
        "count = int(input('몇 번 할까요?'))\n",
        "r_correct = multiplication_tables(count)\n",
        "print(f'{count}번 중 {r_correct}번 맞힘')"
      ],
      "metadata": {
        "colab": {
          "base_uri": "https://localhost:8080/"
        },
        "id": "JD89VswXmZuC",
        "outputId": "70c9190c-40df-4a52-f172-c7c7bc251cb1"
      },
      "execution_count": null,
      "outputs": [
        {
          "output_type": "stream",
          "name": "stdout",
          "text": [
            "몇 번 할까요?5\n",
            "5 * 5 ?   \n",
            ">>>>>  25\n",
            "문제풀이 시간: 1.701\n",
            "정답\n",
            "6 * 3 ?   \n",
            ">>>>>  18\n",
            "문제풀이 시간: 2.257\n",
            "정답\n",
            "3 * 2 ?   \n",
            ">>>>>  6\n",
            "문제풀이 시간: 1.725\n",
            "정답\n",
            "6 * 7 ?   \n",
            ">>>>>  42\n",
            "문제풀이 시간: 2.433\n",
            "정답\n",
            "3 * 9 ?   \n",
            ">>>>>  27\n",
            "문제풀이 시간: 1.814\n",
            "정답\n",
            "5번 중 5번 맞힘\n"
          ]
        }
      ]
    },
    {
      "cell_type": "code",
      "source": [
        "import time\n",
        "\n",
        "print(time.time())"
      ],
      "metadata": {
        "colab": {
          "base_uri": "https://localhost:8080/"
        },
        "id": "zIktKNc_qy9R",
        "outputId": "5db3ecc5-b47d-4c2a-e77f-e6f7dc568832"
      },
      "execution_count": null,
      "outputs": [
        {
          "output_type": "stream",
          "name": "stdout",
          "text": [
            "1736738458.6333957\n"
          ]
        }
      ]
    }
  ]
}